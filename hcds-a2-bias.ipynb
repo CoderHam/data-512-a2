{
 "cells": [
  {
   "cell_type": "code",
   "execution_count": 1,
   "metadata": {},
   "outputs": [],
   "source": [
    "import pandas as pd\n",
    "import json\n",
    "import requests\n",
    "import numpy as np\n",
    "import matplotlib.pyplot as plt\n",
    "import multiprocessing\n",
    "%matplotlib inline"
   ]
  },
  {
   "cell_type": "code",
   "execution_count": 2,
   "metadata": {},
   "outputs": [
    {
     "data": {
      "text/html": [
       "<div>\n",
       "<style scoped>\n",
       "    .dataframe tbody tr th:only-of-type {\n",
       "        vertical-align: middle;\n",
       "    }\n",
       "\n",
       "    .dataframe tbody tr th {\n",
       "        vertical-align: top;\n",
       "    }\n",
       "\n",
       "    .dataframe thead th {\n",
       "        text-align: right;\n",
       "    }\n",
       "</style>\n",
       "<table border=\"1\" class=\"dataframe\">\n",
       "  <thead>\n",
       "    <tr style=\"text-align: right;\">\n",
       "      <th></th>\n",
       "      <th>Geography</th>\n",
       "      <th>Population mid-2018 (millions)</th>\n",
       "    </tr>\n",
       "  </thead>\n",
       "  <tbody>\n",
       "    <tr>\n",
       "      <th>0</th>\n",
       "      <td>AFRICA</td>\n",
       "      <td>1,284</td>\n",
       "    </tr>\n",
       "    <tr>\n",
       "      <th>1</th>\n",
       "      <td>Algeria</td>\n",
       "      <td>42.7</td>\n",
       "    </tr>\n",
       "    <tr>\n",
       "      <th>2</th>\n",
       "      <td>Egypt</td>\n",
       "      <td>97</td>\n",
       "    </tr>\n",
       "    <tr>\n",
       "      <th>3</th>\n",
       "      <td>Libya</td>\n",
       "      <td>6.5</td>\n",
       "    </tr>\n",
       "    <tr>\n",
       "      <th>4</th>\n",
       "      <td>Morocco</td>\n",
       "      <td>35.2</td>\n",
       "    </tr>\n",
       "  </tbody>\n",
       "</table>\n",
       "</div>"
      ],
      "text/plain": [
       "  Geography Population mid-2018 (millions)\n",
       "0    AFRICA                          1,284\n",
       "1   Algeria                           42.7\n",
       "2     Egypt                             97\n",
       "3     Libya                            6.5\n",
       "4   Morocco                           35.2"
      ]
     },
     "execution_count": 2,
     "metadata": {},
     "output_type": "execute_result"
    }
   ],
   "source": [
    "# Reading the WPDS 2018 (population) data\n",
    "wpds = pd.read_csv(\"WPDS_2018_data.csv\")\n",
    "# looking at the contents\n",
    "wpds.head()"
   ]
  },
  {
   "cell_type": "markdown",
   "metadata": {},
   "source": [
    "Download the article data from https://figshare.com/articles/Untitled_Item/5513449 and extract to main directory of project."
   ]
  },
  {
   "cell_type": "code",
   "execution_count": 3,
   "metadata": {},
   "outputs": [
    {
     "data": {
      "text/html": [
       "<div>\n",
       "<style scoped>\n",
       "    .dataframe tbody tr th:only-of-type {\n",
       "        vertical-align: middle;\n",
       "    }\n",
       "\n",
       "    .dataframe tbody tr th {\n",
       "        vertical-align: top;\n",
       "    }\n",
       "\n",
       "    .dataframe thead th {\n",
       "        text-align: right;\n",
       "    }\n",
       "</style>\n",
       "<table border=\"1\" class=\"dataframe\">\n",
       "  <thead>\n",
       "    <tr style=\"text-align: right;\">\n",
       "      <th></th>\n",
       "      <th>page</th>\n",
       "      <th>country</th>\n",
       "      <th>rev_id</th>\n",
       "    </tr>\n",
       "  </thead>\n",
       "  <tbody>\n",
       "    <tr>\n",
       "      <th>0</th>\n",
       "      <td>Template:ZambiaProvincialMinisters</td>\n",
       "      <td>Zambia</td>\n",
       "      <td>235107991</td>\n",
       "    </tr>\n",
       "    <tr>\n",
       "      <th>1</th>\n",
       "      <td>Bir I of Kanem</td>\n",
       "      <td>Chad</td>\n",
       "      <td>355319463</td>\n",
       "    </tr>\n",
       "    <tr>\n",
       "      <th>2</th>\n",
       "      <td>Template:Zimbabwe-politician-stub</td>\n",
       "      <td>Zimbabwe</td>\n",
       "      <td>391862046</td>\n",
       "    </tr>\n",
       "    <tr>\n",
       "      <th>3</th>\n",
       "      <td>Template:Uganda-politician-stub</td>\n",
       "      <td>Uganda</td>\n",
       "      <td>391862070</td>\n",
       "    </tr>\n",
       "    <tr>\n",
       "      <th>4</th>\n",
       "      <td>Template:Namibia-politician-stub</td>\n",
       "      <td>Namibia</td>\n",
       "      <td>391862409</td>\n",
       "    </tr>\n",
       "  </tbody>\n",
       "</table>\n",
       "</div>"
      ],
      "text/plain": [
       "                                 page   country     rev_id\n",
       "0  Template:ZambiaProvincialMinisters    Zambia  235107991\n",
       "1                      Bir I of Kanem      Chad  355319463\n",
       "2   Template:Zimbabwe-politician-stub  Zimbabwe  391862046\n",
       "3     Template:Uganda-politician-stub    Uganda  391862070\n",
       "4    Template:Namibia-politician-stub   Namibia  391862409"
      ]
     },
     "execution_count": 3,
     "metadata": {},
     "output_type": "execute_result"
    }
   ],
   "source": [
    "# edit file_path to reflect path to csv file in the extracted data folder.\n",
    "file_path = 'country/data/page_data.csv'\n",
    "# Reading the article data\n",
    "page_data = pd.read_csv(file_path)\n",
    "# looking at the contents\n",
    "page_data.head()"
   ]
  },
  {
   "cell_type": "code",
   "execution_count": 4,
   "metadata": {},
   "outputs": [],
   "source": [
    "# as mentioned on the MediaWiki ORES page: https://www.mediawiki.org/wiki/ORES \n",
    "# Note: We are using the wp10 model and care about only English Wikipedia articles\n",
    "api_endpoint = 'https://ores.wikimedia.org/v3/scores/enwiki/?models=wp10&revids={rev_ids}'\n",
    "headers = {'User-Agent' : 'https://github.com/CoderHam', 'From' : 'hemantj@uw.edu'}"
   ]
  },
  {
   "cell_type": "markdown",
   "metadata": {},
   "source": [
    "We chunk the revids into chunks of $50$ and make requests to the api ($50$ revids per request)"
   ]
  },
  {
   "cell_type": "code",
   "execution_count": 5,
   "metadata": {},
   "outputs": [],
   "source": [
    "all_revids_list = list(page_data['rev_id'])\n",
    "revids_chunks = [all_revids_list[i:i+50] for i in range(0, len(all_revids_list), 50)]"
   ]
  },
  {
   "cell_type": "code",
   "execution_count": 6,
   "metadata": {},
   "outputs": [],
   "source": [
    "def get_ores_data_parallel(revids_chunk):\n",
    "    params = {'rev_ids':'|'.join(str(rid) for rid in revids_chunk)}\n",
    "    resp = requests.get(api_endpoint.format(**params), headers)\n",
    "    return resp.json()['enwiki']['scores']\n",
    "#     ['enwiki']['scores']"
   ]
  },
  {
   "cell_type": "markdown",
   "metadata": {},
   "source": [
    "Serially making $98$ requests will be very slow as shown below:"
   ]
  },
  {
   "cell_type": "code",
   "execution_count": 7,
   "metadata": {
    "scrolled": true
   },
   "outputs": [
    {
     "name": "stdout",
     "output_type": "stream",
     "text": [
      "Note: We are making a total of 944 requests\n"
     ]
    }
   ],
   "source": [
    "# %time get_ores_data(list(page_data['rev_id']))\n",
    "# CPU times: user 33.8 s, sys: 1.02 s, total: 34.9 s\n",
    "# Wall time: 4min 32s\n",
    "print(\"Note: We are making a total of\",len(revids_chunks),\"requests\")"
   ]
  },
  {
   "cell_type": "code",
   "execution_count": 8,
   "metadata": {},
   "outputs": [
    {
     "name": "stdout",
     "output_type": "stream",
     "text": [
      "CPU times: user 297 ms, sys: 105 ms, total: 403 ms\n",
      "Wall time: 1min 20s\n"
     ]
    }
   ],
   "source": [
    "pool = multiprocessing.Pool(processes=4)\n",
    "%time json_output = pool.map(get_ores_data_parallel,revids_chunks)\n",
    "pool.close()\n",
    "pool.join()"
   ]
  },
  {
   "cell_type": "markdown",
   "metadata": {},
   "source": [
    "After parallelizing by a factor of $4$ we get a speedup of approximately $4x$."
   ]
  },
  {
   "cell_type": "code",
   "execution_count": 9,
   "metadata": {},
   "outputs": [],
   "source": [
    "def process_json(json_output):\n",
    "    revid_rating = pd.DataFrame()\n",
    "    for jo in json_output:\n",
    "        for rid in jo:\n",
    "            try:\n",
    "                rating = jo[rid]['wp10']['score']['prediction']\n",
    "                revid_rating = revid_rating.append({'rev_id':rid, 'article_quality':rating}, ignore_index=True)\n",
    "            except:\n",
    "                rating = np.nan\n",
    "#                 print(rid,\"not found or unable to read score for this rev_id\")\n",
    "#             revid_rating = revid_rating.append({'rev_id':rid, 'article_quality':rating}, ignore_index=True)\n",
    "    return revid_rating"
   ]
  },
  {
   "cell_type": "code",
   "execution_count": 10,
   "metadata": {
    "scrolled": true
   },
   "outputs": [],
   "source": [
    "revid_rating = process_json(json_output)"
   ]
  },
  {
   "cell_type": "code",
   "execution_count": 11,
   "metadata": {},
   "outputs": [
    {
     "data": {
      "text/html": [
       "<div>\n",
       "<style scoped>\n",
       "    .dataframe tbody tr th:only-of-type {\n",
       "        vertical-align: middle;\n",
       "    }\n",
       "\n",
       "    .dataframe tbody tr th {\n",
       "        vertical-align: top;\n",
       "    }\n",
       "\n",
       "    .dataframe thead th {\n",
       "        text-align: right;\n",
       "    }\n",
       "</style>\n",
       "<table border=\"1\" class=\"dataframe\">\n",
       "  <thead>\n",
       "    <tr style=\"text-align: right;\">\n",
       "      <th></th>\n",
       "      <th>article_quality</th>\n",
       "      <th>rev_id</th>\n",
       "    </tr>\n",
       "  </thead>\n",
       "  <tbody>\n",
       "    <tr>\n",
       "      <th>0</th>\n",
       "      <td>Stub</td>\n",
       "      <td>355319463</td>\n",
       "    </tr>\n",
       "    <tr>\n",
       "      <th>1</th>\n",
       "      <td>Stub</td>\n",
       "      <td>391862046</td>\n",
       "    </tr>\n",
       "    <tr>\n",
       "      <th>2</th>\n",
       "      <td>Stub</td>\n",
       "      <td>391862070</td>\n",
       "    </tr>\n",
       "    <tr>\n",
       "      <th>3</th>\n",
       "      <td>Stub</td>\n",
       "      <td>391862409</td>\n",
       "    </tr>\n",
       "    <tr>\n",
       "      <th>4</th>\n",
       "      <td>Stub</td>\n",
       "      <td>391862819</td>\n",
       "    </tr>\n",
       "  </tbody>\n",
       "</table>\n",
       "</div>"
      ],
      "text/plain": [
       "  article_quality     rev_id\n",
       "0            Stub  355319463\n",
       "1            Stub  391862046\n",
       "2            Stub  391862070\n",
       "3            Stub  391862409\n",
       "4            Stub  391862819"
      ]
     },
     "execution_count": 11,
     "metadata": {},
     "output_type": "execute_result"
    }
   ],
   "source": [
    "#But wait we messed up! We need to get the rev_id back to an integer.\n",
    "revid_rating['rev_id'] = revid_rating['rev_id'].apply(lambda rid: int(rid))\n",
    "#Lets have a look at the revid_rating table\n",
    "revid_rating.head()"
   ]
  },
  {
   "cell_type": "code",
   "execution_count": 12,
   "metadata": {},
   "outputs": [],
   "source": [
    "revid_rating.to_csv('revid_rating.csv',index_label=False,index=False)"
   ]
  },
  {
   "cell_type": "markdown",
   "metadata": {},
   "source": [
    "We now want to join/merge the **revid_rating** data with the article data in **page_data**. "
   ]
  },
  {
   "cell_type": "code",
   "execution_count": 13,
   "metadata": {},
   "outputs": [
    {
     "data": {
      "text/html": [
       "<div>\n",
       "<style scoped>\n",
       "    .dataframe tbody tr th:only-of-type {\n",
       "        vertical-align: middle;\n",
       "    }\n",
       "\n",
       "    .dataframe tbody tr th {\n",
       "        vertical-align: top;\n",
       "    }\n",
       "\n",
       "    .dataframe thead th {\n",
       "        text-align: right;\n",
       "    }\n",
       "</style>\n",
       "<table border=\"1\" class=\"dataframe\">\n",
       "  <thead>\n",
       "    <tr style=\"text-align: right;\">\n",
       "      <th></th>\n",
       "      <th>page</th>\n",
       "      <th>country</th>\n",
       "      <th>rev_id</th>\n",
       "      <th>article_quality</th>\n",
       "    </tr>\n",
       "  </thead>\n",
       "  <tbody>\n",
       "    <tr>\n",
       "      <th>0</th>\n",
       "      <td>Bir I of Kanem</td>\n",
       "      <td>Chad</td>\n",
       "      <td>355319463</td>\n",
       "      <td>Stub</td>\n",
       "    </tr>\n",
       "    <tr>\n",
       "      <th>1</th>\n",
       "      <td>Template:Zimbabwe-politician-stub</td>\n",
       "      <td>Zimbabwe</td>\n",
       "      <td>391862046</td>\n",
       "      <td>Stub</td>\n",
       "    </tr>\n",
       "    <tr>\n",
       "      <th>2</th>\n",
       "      <td>Template:Uganda-politician-stub</td>\n",
       "      <td>Uganda</td>\n",
       "      <td>391862070</td>\n",
       "      <td>Stub</td>\n",
       "    </tr>\n",
       "    <tr>\n",
       "      <th>3</th>\n",
       "      <td>Template:Namibia-politician-stub</td>\n",
       "      <td>Namibia</td>\n",
       "      <td>391862409</td>\n",
       "      <td>Stub</td>\n",
       "    </tr>\n",
       "    <tr>\n",
       "      <th>4</th>\n",
       "      <td>Template:Nigeria-politician-stub</td>\n",
       "      <td>Nigeria</td>\n",
       "      <td>391862819</td>\n",
       "      <td>Stub</td>\n",
       "    </tr>\n",
       "  </tbody>\n",
       "</table>\n",
       "</div>"
      ],
      "text/plain": [
       "                                page   country     rev_id article_quality\n",
       "0                     Bir I of Kanem      Chad  355319463            Stub\n",
       "1  Template:Zimbabwe-politician-stub  Zimbabwe  391862046            Stub\n",
       "2    Template:Uganda-politician-stub    Uganda  391862070            Stub\n",
       "3   Template:Namibia-politician-stub   Namibia  391862409            Stub\n",
       "4   Template:Nigeria-politician-stub   Nigeria  391862819            Stub"
      ]
     },
     "execution_count": 13,
     "metadata": {},
     "output_type": "execute_result"
    }
   ],
   "source": [
    "master_pagedata_rating = page_data.merge(revid_rating, on='rev_id')\n",
    "master_pagedata_rating.head()"
   ]
  },
  {
   "cell_type": "markdown",
   "metadata": {},
   "source": [
    "We now want to join/merge the **wpds** (population) data with the merged rating+article data in **master_pagedata_rating**. "
   ]
  },
  {
   "cell_type": "code",
   "execution_count": 14,
   "metadata": {},
   "outputs": [],
   "source": [
    "wpds.rename(columns={'Geography':'country'}, inplace=True)\n",
    "master = master_pagedata_rating.merge(wpds, on='country')"
   ]
  },
  {
   "cell_type": "code",
   "execution_count": 15,
   "metadata": {},
   "outputs": [
    {
     "data": {
      "text/html": [
       "<div>\n",
       "<style scoped>\n",
       "    .dataframe tbody tr th:only-of-type {\n",
       "        vertical-align: middle;\n",
       "    }\n",
       "\n",
       "    .dataframe tbody tr th {\n",
       "        vertical-align: top;\n",
       "    }\n",
       "\n",
       "    .dataframe thead th {\n",
       "        text-align: right;\n",
       "    }\n",
       "</style>\n",
       "<table border=\"1\" class=\"dataframe\">\n",
       "  <thead>\n",
       "    <tr style=\"text-align: right;\">\n",
       "      <th></th>\n",
       "      <th>article_name</th>\n",
       "      <th>country</th>\n",
       "      <th>revision_id</th>\n",
       "      <th>article_quality</th>\n",
       "      <th>population</th>\n",
       "    </tr>\n",
       "  </thead>\n",
       "  <tbody>\n",
       "    <tr>\n",
       "      <th>0</th>\n",
       "      <td>Bir I of Kanem</td>\n",
       "      <td>Chad</td>\n",
       "      <td>355319463</td>\n",
       "      <td>Stub</td>\n",
       "      <td>15.4</td>\n",
       "    </tr>\n",
       "    <tr>\n",
       "      <th>1</th>\n",
       "      <td>Abdullah II of Kanem</td>\n",
       "      <td>Chad</td>\n",
       "      <td>498683267</td>\n",
       "      <td>Stub</td>\n",
       "      <td>15.4</td>\n",
       "    </tr>\n",
       "    <tr>\n",
       "      <th>2</th>\n",
       "      <td>Salmama II of Kanem</td>\n",
       "      <td>Chad</td>\n",
       "      <td>565745353</td>\n",
       "      <td>Stub</td>\n",
       "      <td>15.4</td>\n",
       "    </tr>\n",
       "    <tr>\n",
       "      <th>3</th>\n",
       "      <td>Kuri I of Kanem</td>\n",
       "      <td>Chad</td>\n",
       "      <td>565745365</td>\n",
       "      <td>Stub</td>\n",
       "      <td>15.4</td>\n",
       "    </tr>\n",
       "    <tr>\n",
       "      <th>4</th>\n",
       "      <td>Mohammed I of Kanem</td>\n",
       "      <td>Chad</td>\n",
       "      <td>565745375</td>\n",
       "      <td>Stub</td>\n",
       "      <td>15.4</td>\n",
       "    </tr>\n",
       "  </tbody>\n",
       "</table>\n",
       "</div>"
      ],
      "text/plain": [
       "           article_name country  revision_id article_quality population\n",
       "0        Bir I of Kanem    Chad  355319463            Stub       15.4\n",
       "1  Abdullah II of Kanem    Chad  498683267            Stub       15.4\n",
       "2   Salmama II of Kanem    Chad  565745353            Stub       15.4\n",
       "3       Kuri I of Kanem    Chad  565745365            Stub       15.4\n",
       "4   Mohammed I of Kanem    Chad  565745375            Stub       15.4"
      ]
     },
     "execution_count": 15,
     "metadata": {},
     "output_type": "execute_result"
    }
   ],
   "source": [
    "master.rename(columns={'Population mid-2018 (millions)':'population','page':'article_name','rev_id':'revision_id'}, inplace=True)\n",
    "master.head()"
   ]
  },
  {
   "cell_type": "code",
   "execution_count": 16,
   "metadata": {},
   "outputs": [],
   "source": [
    "master.to_csv('master_data.csv',index_label=False,index=False)"
   ]
  },
  {
   "cell_type": "markdown",
   "metadata": {},
   "source": [
    "# Analysis and Results"
   ]
  },
  {
   "cell_type": "code",
   "execution_count": 24,
   "metadata": {},
   "outputs": [],
   "source": [
    "from collections import Counter\n",
    "country_count = Counter(list(master['country']))"
   ]
  },
  {
   "cell_type": "code",
   "execution_count": 27,
   "metadata": {},
   "outputs": [],
   "source": [
    "country_list = list(wpds['country'])\n",
    "pop_list = wpds['Population mid-2018 (millions)'].apply(lambda x: float(x.replace(',','')))\n",
    "count_list = [country_count[c] if c in country_count else 0 for c in country_list]\n",
    "ratio_list = [count_list[i]/pop_list[i]*(10**-6) if count_list[i]!=0 else 0 for i in range(0,len(country_list))]\n",
    "wpds['count_articles'] = count_list\n",
    "wpds['per_person_articles'] = ratio_list"
   ]
  },
  {
   "cell_type": "markdown",
   "metadata": {},
   "source": [
    "## 1. Top 10 countries in terms of number of articles about politicians as a proportion of the country population"
   ]
  },
  {
   "cell_type": "code",
   "execution_count": 28,
   "metadata": {},
   "outputs": [
    {
     "data": {
      "text/html": [
       "<div>\n",
       "<style scoped>\n",
       "    .dataframe tbody tr th:only-of-type {\n",
       "        vertical-align: middle;\n",
       "    }\n",
       "\n",
       "    .dataframe tbody tr th {\n",
       "        vertical-align: top;\n",
       "    }\n",
       "\n",
       "    .dataframe thead th {\n",
       "        text-align: right;\n",
       "    }\n",
       "</style>\n",
       "<table border=\"1\" class=\"dataframe\">\n",
       "  <thead>\n",
       "    <tr style=\"text-align: right;\">\n",
       "      <th></th>\n",
       "      <th>country</th>\n",
       "      <th>Population mid-2018 (millions)</th>\n",
       "      <th>count_articles</th>\n",
       "      <th>per_person_articles</th>\n",
       "    </tr>\n",
       "  </thead>\n",
       "  <tbody>\n",
       "    <tr>\n",
       "      <th>205</th>\n",
       "      <td>Tuvalu</td>\n",
       "      <td>0.01</td>\n",
       "      <td>55</td>\n",
       "      <td>0.005500</td>\n",
       "    </tr>\n",
       "    <tr>\n",
       "      <th>197</th>\n",
       "      <td>Nauru</td>\n",
       "      <td>0.01</td>\n",
       "      <td>53</td>\n",
       "      <td>0.005300</td>\n",
       "    </tr>\n",
       "    <tr>\n",
       "      <th>185</th>\n",
       "      <td>San Marino</td>\n",
       "      <td>0.03</td>\n",
       "      <td>82</td>\n",
       "      <td>0.002733</td>\n",
       "    </tr>\n",
       "    <tr>\n",
       "      <th>161</th>\n",
       "      <td>Monaco</td>\n",
       "      <td>0.04</td>\n",
       "      <td>40</td>\n",
       "      <td>0.001000</td>\n",
       "    </tr>\n",
       "    <tr>\n",
       "      <th>159</th>\n",
       "      <td>Liechtenstein</td>\n",
       "      <td>0.04</td>\n",
       "      <td>29</td>\n",
       "      <td>0.000725</td>\n",
       "    </tr>\n",
       "    <tr>\n",
       "      <th>204</th>\n",
       "      <td>Tonga</td>\n",
       "      <td>0.1</td>\n",
       "      <td>63</td>\n",
       "      <td>0.000630</td>\n",
       "    </tr>\n",
       "    <tr>\n",
       "      <th>196</th>\n",
       "      <td>Marshall Islands</td>\n",
       "      <td>0.06</td>\n",
       "      <td>37</td>\n",
       "      <td>0.000617</td>\n",
       "    </tr>\n",
       "    <tr>\n",
       "      <th>148</th>\n",
       "      <td>Iceland</td>\n",
       "      <td>0.4</td>\n",
       "      <td>206</td>\n",
       "      <td>0.000515</td>\n",
       "    </tr>\n",
       "    <tr>\n",
       "      <th>175</th>\n",
       "      <td>Andorra</td>\n",
       "      <td>0.08</td>\n",
       "      <td>34</td>\n",
       "      <td>0.000425</td>\n",
       "    </tr>\n",
       "    <tr>\n",
       "      <th>191</th>\n",
       "      <td>Federated States of Micronesia</td>\n",
       "      <td>0.1</td>\n",
       "      <td>38</td>\n",
       "      <td>0.000380</td>\n",
       "    </tr>\n",
       "  </tbody>\n",
       "</table>\n",
       "</div>"
      ],
      "text/plain": [
       "                            country Population mid-2018 (millions)  \\\n",
       "205                          Tuvalu                           0.01   \n",
       "197                           Nauru                           0.01   \n",
       "185                      San Marino                           0.03   \n",
       "161                          Monaco                           0.04   \n",
       "159                   Liechtenstein                           0.04   \n",
       "204                           Tonga                            0.1   \n",
       "196                Marshall Islands                           0.06   \n",
       "148                         Iceland                            0.4   \n",
       "175                         Andorra                           0.08   \n",
       "191  Federated States of Micronesia                            0.1   \n",
       "\n",
       "     count_articles  per_person_articles  \n",
       "205              55             0.005500  \n",
       "197              53             0.005300  \n",
       "185              82             0.002733  \n",
       "161              40             0.001000  \n",
       "159              29             0.000725  \n",
       "204              63             0.000630  \n",
       "196              37             0.000617  \n",
       "148             206             0.000515  \n",
       "175              34             0.000425  \n",
       "191              38             0.000380  "
      ]
     },
     "execution_count": 28,
     "metadata": {},
     "output_type": "execute_result"
    }
   ],
   "source": [
    "# wpds = wpds.dropna()\n",
    "# Top 10 countries in terms of articles per person\n",
    "wpds.sort_values('per_person_articles',ascending=False).head(10)"
   ]
  },
  {
   "cell_type": "markdown",
   "metadata": {},
   "source": [
    "## 2. Lowest 10 countries in terms of number of articles about politicians as a proportion of the country population"
   ]
  },
  {
   "cell_type": "code",
   "execution_count": 33,
   "metadata": {
    "scrolled": true
   },
   "outputs": [
    {
     "data": {
      "text/html": [
       "<div>\n",
       "<style scoped>\n",
       "    .dataframe tbody tr th:only-of-type {\n",
       "        vertical-align: middle;\n",
       "    }\n",
       "\n",
       "    .dataframe tbody tr th {\n",
       "        vertical-align: top;\n",
       "    }\n",
       "\n",
       "    .dataframe thead th {\n",
       "        text-align: right;\n",
       "    }\n",
       "</style>\n",
       "<table border=\"1\" class=\"dataframe\">\n",
       "  <thead>\n",
       "    <tr style=\"text-align: right;\">\n",
       "      <th></th>\n",
       "      <th>country</th>\n",
       "      <th>Population mid-2018 (millions)</th>\n",
       "      <th>count_articles</th>\n",
       "      <th>per_person_articles</th>\n",
       "    </tr>\n",
       "  </thead>\n",
       "  <tbody>\n",
       "    <tr>\n",
       "      <th>121</th>\n",
       "      <td>India</td>\n",
       "      <td>1,371.3</td>\n",
       "      <td>986</td>\n",
       "      <td>7.190257e-07</td>\n",
       "    </tr>\n",
       "    <tr>\n",
       "      <th>129</th>\n",
       "      <td>Indonesia</td>\n",
       "      <td>265.2</td>\n",
       "      <td>214</td>\n",
       "      <td>8.069382e-07</td>\n",
       "    </tr>\n",
       "    <tr>\n",
       "      <th>138</th>\n",
       "      <td>China</td>\n",
       "      <td>1,393.8</td>\n",
       "      <td>1135</td>\n",
       "      <td>8.143206e-07</td>\n",
       "    </tr>\n",
       "    <tr>\n",
       "      <th>117</th>\n",
       "      <td>Uzbekistan</td>\n",
       "      <td>32.9</td>\n",
       "      <td>29</td>\n",
       "      <td>8.814590e-07</td>\n",
       "    </tr>\n",
       "    <tr>\n",
       "      <th>28</th>\n",
       "      <td>Ethiopia</td>\n",
       "      <td>107.5</td>\n",
       "      <td>105</td>\n",
       "      <td>9.767442e-07</td>\n",
       "    </tr>\n",
       "    <tr>\n",
       "      <th>40</th>\n",
       "      <td>Zambia</td>\n",
       "      <td>17.7</td>\n",
       "      <td>25</td>\n",
       "      <td>1.412429e-06</td>\n",
       "    </tr>\n",
       "    <tr>\n",
       "      <th>140</th>\n",
       "      <td>Korea, North</td>\n",
       "      <td>25.6</td>\n",
       "      <td>39</td>\n",
       "      <td>1.523437e-06</td>\n",
       "    </tr>\n",
       "    <tr>\n",
       "      <th>135</th>\n",
       "      <td>Thailand</td>\n",
       "      <td>66.2</td>\n",
       "      <td>112</td>\n",
       "      <td>1.691843e-06</td>\n",
       "    </tr>\n",
       "    <tr>\n",
       "      <th>119</th>\n",
       "      <td>Bangladesh</td>\n",
       "      <td>166.4</td>\n",
       "      <td>323</td>\n",
       "      <td>1.941106e-06</td>\n",
       "    </tr>\n",
       "    <tr>\n",
       "      <th>33</th>\n",
       "      <td>Mozambique</td>\n",
       "      <td>30.5</td>\n",
       "      <td>60</td>\n",
       "      <td>1.967213e-06</td>\n",
       "    </tr>\n",
       "  </tbody>\n",
       "</table>\n",
       "</div>"
      ],
      "text/plain": [
       "          country Population mid-2018 (millions)  count_articles  \\\n",
       "121         India                        1,371.3             986   \n",
       "129     Indonesia                          265.2             214   \n",
       "138         China                        1,393.8            1135   \n",
       "117    Uzbekistan                           32.9              29   \n",
       "28       Ethiopia                          107.5             105   \n",
       "40         Zambia                           17.7              25   \n",
       "140  Korea, North                           25.6              39   \n",
       "135      Thailand                           66.2             112   \n",
       "119    Bangladesh                          166.4             323   \n",
       "33     Mozambique                           30.5              60   \n",
       "\n",
       "     per_person_articles  \n",
       "121         7.190257e-07  \n",
       "129         8.069382e-07  \n",
       "138         8.143206e-07  \n",
       "117         8.814590e-07  \n",
       "28          9.767442e-07  \n",
       "40          1.412429e-06  \n",
       "140         1.523437e-06  \n",
       "135         1.691843e-06  \n",
       "119         1.941106e-06  \n",
       "33          1.967213e-06  "
      ]
     },
     "execution_count": 33,
     "metadata": {},
     "output_type": "execute_result"
    }
   ],
   "source": [
    "# Lowest 10 countries in terms of articles per person\n",
    "wpds_tmp = wpds[wpds['count_articles']!=0]\n",
    "wpds_tmp.sort_values('per_person_articles').head(10)"
   ]
  },
  {
   "cell_type": "code",
   "execution_count": 34,
   "metadata": {},
   "outputs": [],
   "source": [
    "# Since quality matters, we rather just run a group by to find the high quality articles i.e. GA and FA \n",
    "# As given https://pandas.pydata.org/pandas-docs/stable/generated/pandas.DataFrame.groupby.html\n",
    "hq_master = master_pagedata_rating[(master_pagedata_rating['article_quality']=='GA') | (master_pagedata_rating['article_quality']=='FA')]\n",
    "hq_master = hq_master.groupby('country').size().reset_index(name='hq_count_articles')"
   ]
  },
  {
   "cell_type": "code",
   "execution_count": 35,
   "metadata": {},
   "outputs": [],
   "source": [
    "hq_master['count_articles'] = [country_count[c] if c in country_count else 0 for c in hq_master['country']]\n",
    "hq_master = hq_master.dropna()"
   ]
  },
  {
   "cell_type": "code",
   "execution_count": 36,
   "metadata": {},
   "outputs": [],
   "source": [
    "hq_master['hq_prop'] = hq_master['hq_count_articles']/hq_master['count_articles']\n",
    "# *100"
   ]
  },
  {
   "cell_type": "markdown",
   "metadata": {},
   "source": [
    "## 3. Top 10 countries in terms of number of high quality articles about politicians as a proportion of the country population"
   ]
  },
  {
   "cell_type": "code",
   "execution_count": 40,
   "metadata": {
    "scrolled": true
   },
   "outputs": [
    {
     "data": {
      "text/html": [
       "<div>\n",
       "<style scoped>\n",
       "    .dataframe tbody tr th:only-of-type {\n",
       "        vertical-align: middle;\n",
       "    }\n",
       "\n",
       "    .dataframe tbody tr th {\n",
       "        vertical-align: top;\n",
       "    }\n",
       "\n",
       "    .dataframe thead th {\n",
       "        text-align: right;\n",
       "    }\n",
       "</style>\n",
       "<table border=\"1\" class=\"dataframe\">\n",
       "  <thead>\n",
       "    <tr style=\"text-align: right;\">\n",
       "      <th></th>\n",
       "      <th>country</th>\n",
       "      <th>hq_count_articles</th>\n",
       "      <th>count_articles</th>\n",
       "      <th>hq_prop</th>\n",
       "    </tr>\n",
       "  </thead>\n",
       "  <tbody>\n",
       "    <tr>\n",
       "      <th>72</th>\n",
       "      <td>Korea, North</td>\n",
       "      <td>7</td>\n",
       "      <td>39</td>\n",
       "      <td>0.179487</td>\n",
       "    </tr>\n",
       "    <tr>\n",
       "      <th>122</th>\n",
       "      <td>Saudi Arabia</td>\n",
       "      <td>16</td>\n",
       "      <td>119</td>\n",
       "      <td>0.134454</td>\n",
       "    </tr>\n",
       "    <tr>\n",
       "      <th>24</th>\n",
       "      <td>Central African Republic</td>\n",
       "      <td>8</td>\n",
       "      <td>68</td>\n",
       "      <td>0.117647</td>\n",
       "    </tr>\n",
       "    <tr>\n",
       "      <th>116</th>\n",
       "      <td>Romania</td>\n",
       "      <td>40</td>\n",
       "      <td>348</td>\n",
       "      <td>0.114943</td>\n",
       "    </tr>\n",
       "    <tr>\n",
       "      <th>90</th>\n",
       "      <td>Mauritania</td>\n",
       "      <td>5</td>\n",
       "      <td>52</td>\n",
       "      <td>0.096154</td>\n",
       "    </tr>\n",
       "    <tr>\n",
       "      <th>13</th>\n",
       "      <td>Bhutan</td>\n",
       "      <td>3</td>\n",
       "      <td>33</td>\n",
       "      <td>0.090909</td>\n",
       "    </tr>\n",
       "    <tr>\n",
       "      <th>146</th>\n",
       "      <td>Tuvalu</td>\n",
       "      <td>5</td>\n",
       "      <td>55</td>\n",
       "      <td>0.090909</td>\n",
       "    </tr>\n",
       "    <tr>\n",
       "      <th>37</th>\n",
       "      <td>Dominica</td>\n",
       "      <td>1</td>\n",
       "      <td>12</td>\n",
       "      <td>0.083333</td>\n",
       "    </tr>\n",
       "    <tr>\n",
       "      <th>150</th>\n",
       "      <td>United States</td>\n",
       "      <td>82</td>\n",
       "      <td>1092</td>\n",
       "      <td>0.075092</td>\n",
       "    </tr>\n",
       "    <tr>\n",
       "      <th>12</th>\n",
       "      <td>Benin</td>\n",
       "      <td>7</td>\n",
       "      <td>94</td>\n",
       "      <td>0.074468</td>\n",
       "    </tr>\n",
       "  </tbody>\n",
       "</table>\n",
       "</div>"
      ],
      "text/plain": [
       "                      country  hq_count_articles  count_articles   hq_prop\n",
       "72               Korea, North                  7              39  0.179487\n",
       "122              Saudi Arabia                 16             119  0.134454\n",
       "24   Central African Republic                  8              68  0.117647\n",
       "116                   Romania                 40             348  0.114943\n",
       "90                 Mauritania                  5              52  0.096154\n",
       "13                     Bhutan                  3              33  0.090909\n",
       "146                    Tuvalu                  5              55  0.090909\n",
       "37                   Dominica                  1              12  0.083333\n",
       "150             United States                 82            1092  0.075092\n",
       "12                      Benin                  7              94  0.074468"
      ]
     },
     "execution_count": 40,
     "metadata": {},
     "output_type": "execute_result"
    }
   ],
   "source": [
    "# Top 10 countries in terms of proportion high quality articles\n",
    "hq_master_tmp = hq_master[hq_master['count_articles']!=0]\n",
    "hq_master_tmp.sort_values('hq_prop',ascending=False).head(10)"
   ]
  },
  {
   "cell_type": "markdown",
   "metadata": {},
   "source": [
    "## 4. Lowest 10 countries in terms of number of high quality articles about politicians as a proportion of the country population"
   ]
  },
  {
   "cell_type": "code",
   "execution_count": 41,
   "metadata": {},
   "outputs": [
    {
     "data": {
      "text/html": [
       "<div>\n",
       "<style scoped>\n",
       "    .dataframe tbody tr th:only-of-type {\n",
       "        vertical-align: middle;\n",
       "    }\n",
       "\n",
       "    .dataframe tbody tr th {\n",
       "        vertical-align: top;\n",
       "    }\n",
       "\n",
       "    .dataframe thead th {\n",
       "        text-align: right;\n",
       "    }\n",
       "</style>\n",
       "<table border=\"1\" class=\"dataframe\">\n",
       "  <thead>\n",
       "    <tr style=\"text-align: right;\">\n",
       "      <th></th>\n",
       "      <th>country</th>\n",
       "      <th>hq_count_articles</th>\n",
       "      <th>count_articles</th>\n",
       "      <th>hq_prop</th>\n",
       "    </tr>\n",
       "  </thead>\n",
       "  <tbody>\n",
       "    <tr>\n",
       "      <th>140</th>\n",
       "      <td>Tanzania</td>\n",
       "      <td>1</td>\n",
       "      <td>408</td>\n",
       "      <td>0.002451</td>\n",
       "    </tr>\n",
       "    <tr>\n",
       "      <th>110</th>\n",
       "      <td>Peru</td>\n",
       "      <td>1</td>\n",
       "      <td>354</td>\n",
       "      <td>0.002825</td>\n",
       "    </tr>\n",
       "    <tr>\n",
       "      <th>82</th>\n",
       "      <td>Lithuania</td>\n",
       "      <td>1</td>\n",
       "      <td>248</td>\n",
       "      <td>0.004032</td>\n",
       "    </tr>\n",
       "    <tr>\n",
       "      <th>102</th>\n",
       "      <td>Nigeria</td>\n",
       "      <td>3</td>\n",
       "      <td>682</td>\n",
       "      <td>0.004399</td>\n",
       "    </tr>\n",
       "    <tr>\n",
       "      <th>95</th>\n",
       "      <td>Morocco</td>\n",
       "      <td>1</td>\n",
       "      <td>208</td>\n",
       "      <td>0.004808</td>\n",
       "    </tr>\n",
       "    <tr>\n",
       "      <th>45</th>\n",
       "      <td>Fiji</td>\n",
       "      <td>1</td>\n",
       "      <td>199</td>\n",
       "      <td>0.005025</td>\n",
       "    </tr>\n",
       "    <tr>\n",
       "      <th>14</th>\n",
       "      <td>Bolivia</td>\n",
       "      <td>1</td>\n",
       "      <td>187</td>\n",
       "      <td>0.005348</td>\n",
       "    </tr>\n",
       "    <tr>\n",
       "      <th>17</th>\n",
       "      <td>Brazil</td>\n",
       "      <td>3</td>\n",
       "      <td>551</td>\n",
       "      <td>0.005445</td>\n",
       "    </tr>\n",
       "    <tr>\n",
       "      <th>83</th>\n",
       "      <td>Luxembourg</td>\n",
       "      <td>1</td>\n",
       "      <td>180</td>\n",
       "      <td>0.005556</td>\n",
       "    </tr>\n",
       "    <tr>\n",
       "      <th>125</th>\n",
       "      <td>Sierra Leone</td>\n",
       "      <td>1</td>\n",
       "      <td>166</td>\n",
       "      <td>0.006024</td>\n",
       "    </tr>\n",
       "  </tbody>\n",
       "</table>\n",
       "</div>"
      ],
      "text/plain": [
       "          country  hq_count_articles  count_articles   hq_prop\n",
       "140      Tanzania                  1             408  0.002451\n",
       "110          Peru                  1             354  0.002825\n",
       "82      Lithuania                  1             248  0.004032\n",
       "102       Nigeria                  3             682  0.004399\n",
       "95        Morocco                  1             208  0.004808\n",
       "45           Fiji                  1             199  0.005025\n",
       "14        Bolivia                  1             187  0.005348\n",
       "17         Brazil                  3             551  0.005445\n",
       "83     Luxembourg                  1             180  0.005556\n",
       "125  Sierra Leone                  1             166  0.006024"
      ]
     },
     "execution_count": 41,
     "metadata": {},
     "output_type": "execute_result"
    }
   ],
   "source": [
    "# Lowest 10 countries in terms of proportion high quality articles\n",
    "hq_master.sort_values('hq_prop').head(10)"
   ]
  }
 ],
 "metadata": {
  "kernelspec": {
   "display_name": "Python 3",
   "language": "python",
   "name": "python3"
  },
  "language_info": {
   "codemirror_mode": {
    "name": "ipython",
    "version": 3
   },
   "file_extension": ".py",
   "mimetype": "text/x-python",
   "name": "python",
   "nbconvert_exporter": "python",
   "pygments_lexer": "ipython3",
   "version": "3.6.6"
  }
 },
 "nbformat": 4,
 "nbformat_minor": 2
}
